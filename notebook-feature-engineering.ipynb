{
   "cells": [
      {
         "cell_type": "markdown",
         "metadata": {},
         "source": [
            "## 1. Preprocessing"
         ]
      },
      {
         "cell_type": "code",
         "execution_count": 1,
         "metadata": {},
         "outputs": [
            {
               "name": "stderr",
               "output_type": "stream",
               "text": [
                  "C:\\Users\\Cesar_Maydana\\AppData\\Local\\Temp\\ipykernel_32516\\2797311845.py:1: DeprecationWarning: the imp module is deprecated in favour of importlib and slated for removal in Python 3.12; see the module's documentation for alternative uses\n",
                  "  from imp import reload\n"
               ]
            }
         ],
         "source": [
            "from imp import reload\n",
            "from sqlalchemy import create_engine\n",
            "from src import config, data_utils, preprocessing\n",
            "import pandas as pd"
         ]
      },
      {
         "cell_type": "markdown",
         "metadata": {},
         "source": [
            "### Getting the data"
         ]
      },
      {
         "cell_type": "code",
         "execution_count": 2,
         "metadata": {},
         "outputs": [
            {
               "name": "stdout",
               "output_type": "stream",
               "text": [
                  "columns Index(['passenger_count', 'PULocationID', 'DOLocationID', 'payment_type',\n",
                  "       'improvement_surcharge', 'total_amount', 'airport_fee',\n",
                  "       'duration_in_minutes', 'pickup_year', 'pickup_day',\n",
                  "       'pickup_day_of_week', 'pickup_hour', 'pickup_minute'],\n",
                  "      dtype='object')\n"
               ]
            },
            {
               "data": {
                  "text/plain": [
                     "Index(['passenger_count', 'PULocationID', 'DOLocationID', 'payment_type',\n",
                     "       'improvement_surcharge', 'total_amount', 'airport_fee',\n",
                     "       'duration_in_minutes', 'pickup_year', 'pickup_day',\n",
                     "       'pickup_day_of_week', 'pickup_hour', 'pickup_minute'],\n",
                     "      dtype='object')"
                  ]
               },
               "execution_count": 2,
               "metadata": {},
               "output_type": "execute_result"
            }
         ],
         "source": [
            "app_train, app_test = data_utils.get_datasets()\n",
            "app_train.columns"
         ]
      },
      {
         "cell_type": "code",
         "execution_count": 5,
         "metadata": {},
         "outputs": [],
         "source": [
            "# Crear el motor de la base de datos\n",
            "# Aquí estoy asumiendo que estás usando SQLite y que quieres guardar los datos en un archivo llamado `mydatabase.db`\n",
            "#engine = create_engine(rf\"sqlite:///{config.SQLITE_BD_ABSOLUTE_PATH}\", echo=False)\n",
            "\n",
            "# Guardar los DataFrames en la base de datos\n",
            "#app_train.to_sql('app_train', engine, if_exists='replace', index=False)\n",
            "#app_test.to_sql('app_test', engine, if_exists='replace', index=False)"
         ]
      },
      {
         "cell_type": "code",
         "execution_count": 3,
         "metadata": {},
         "outputs": [
            {
               "data": {
                  "text/plain": [
                     "(3400316, 13)"
                  ]
               },
               "execution_count": 3,
               "metadata": {},
               "output_type": "execute_result"
            }
         ],
         "source": [
            "app_train.shape "
         ]
      },
      {
         "cell_type": "markdown",
         "metadata": {},
         "source": [
            "## Split targets from dataset"
         ]
      },
      {
         "cell_type": "code",
         "execution_count": 4,
         "metadata": {},
         "outputs": [],
         "source": [
            "(\n",
            " X_train,\n",
            " y_train_total_amount,\n",
            " y_train_duration_in_minutes,\n",
            " X_test,\n",
            " y_test_total_amount,\n",
            " y_test_duration_in_minutes\n",
            ") = data_utils.get_feature_target(app_train, app_test)"
         ]
      },
      {
         "cell_type": "markdown",
         "metadata": {},
         "source": [
            "## Stract validation dataset"
         ]
      },
      {
         "cell_type": "code",
         "execution_count": 5,
         "metadata": {},
         "outputs": [],
         "source": [
            "(\n",
            "X_train,\n",
            "X_val,\n",
            "y_train_total_amount,\n",
            "y_val_total_amount,\n",
            "y_train_duration_in_minutes,\n",
            "y_val_duration_in_minutes\n",
            ") = data_utils.get_train_val_sets(X_train, y_train_total_amount, y_train_duration_in_minutes)"
         ]
      },
      {
         "cell_type": "code",
         "execution_count": 6,
         "metadata": {},
         "outputs": [
            {
               "name": "stdout",
               "output_type": "stream",
               "text": [
                  "(2720252, 12) (680064, 12) (3400160, 12)\n"
               ]
            }
         ],
         "source": [
            "print(X_train.shape, X_val.shape, X_test.shape)"
         ]
      },
      {
         "cell_type": "markdown",
         "metadata": {},
         "source": [
            "## Clear and encode datasets"
         ]
      },
      {
         "cell_type": "code",
         "execution_count": 6,
         "metadata": {},
         "outputs": [
            {
               "data": {
                  "text/plain": [
                     "<module 'src.preprocessing' from 'c:\\\\Anyone\\\\repos\\\\Finall_project\\\\assignment\\\\taxi-price-predictor\\\\src\\\\preprocessing.py'>"
                  ]
               },
               "execution_count": 6,
               "metadata": {},
               "output_type": "execute_result"
            }
         ],
         "source": [
            "reload(preprocessing)                "
         ]
      },
      {
         "cell_type": "code",
         "execution_count": 6,
         "metadata": {},
         "outputs": [
            {
               "name": "stdout",
               "output_type": "stream",
               "text": [
                  "Input train data shape:  (2720252, 11)\n",
                  "Input val data shape:  (680064, 11)\n",
                  "Input test data shape:  (3400160, 11) \n",
                  "\n"
               ]
            }
         ],
         "source": [
            "X_train, X_val, X_test = preprocessing.preprocess_data(X_train, X_val, X_test)"
         ]
      },
      {
         "cell_type": "code",
         "execution_count": 8,
         "metadata": {},
         "outputs": [],
         "source": [
            "# Create a XGBoost matrices\n",
            "import xgboost as xgb\n",
            "\n",
            "x_train2 = xgb.DMatrix(X_train, label=y_train_duration_in_minutes)\n",
            "X_val2 = xgb.DMatrix(X_val, label=y_val_duration_in_minutes)"
         ]
      },
      {
         "cell_type": "code",
         "execution_count": 9,
         "metadata": {},
         "outputs": [],
         "source": [
            "parameters = {'learning_rate': 0.3,\n",
            "              'max_depth': 6,\n",
            "              'colsample_bytree': 1,\n",
            "              'subsample': 1,\n",
            "              'min_child_weight': 1,\n",
            "              'gamma': 0,\n",
            "              'random_state': 42,\n",
            "              'eval_metric': 'rmse',\n",
            "              'objective': 'reg:squarederror'}"
         ]
      },
      {
         "cell_type": "code",
         "execution_count": 6,
         "metadata": {},
         "outputs": [
            {
               "data": {
                  "text/plain": [
                     "CompletedProcess(args='c:\\\\Anyone\\\\repos\\\\Finall_project\\\\env\\\\python.exe -m pip freeze > requirements2.txt', returncode=0)"
                  ]
               },
               "execution_count": 6,
               "metadata": {},
               "output_type": "execute_result"
            }
         ],
         "source": [
            "import subprocess\n",
            "\n",
            "command = f\"{sys.executable} -m pip freeze > requirements2.txt\"\n",
            "subprocess.run(command, shell=True)"
         ]
      },
      {
         "cell_type": "code",
         "execution_count": 12,
         "metadata": {},
         "outputs": [
            {
               "name": "stdout",
               "output_type": "stream",
               "text": [
                  "[0]\tduration_in_minutes-rmse:51.90321\n",
                  "[10]\tduration_in_minutes-rmse:51.14088\n",
                  "[14]\tduration_in_minutes-rmse:51.12227\n"
               ]
            }
         ],
         "source": [
            "model = xgb.train(parameters, \n",
            "                dtrain = x_train2, \n",
            "                num_boost_round=15, \n",
            "                evals=[(X_val2, 'duration_in_minutes')], \n",
            "                verbose_eval=10)"
         ]
      },
      {
         "cell_type": "code",
         "execution_count": 13,
         "metadata": {},
         "outputs": [
            {
               "data": {
                  "text/plain": [
                     "array([ 6.206475,  7.701418,  9.543358, 12.56599 ,  4.823457],\n",
                     "      dtype=float32)"
                  ]
               },
               "execution_count": 13,
               "metadata": {},
               "output_type": "execute_result"
            }
         ],
         "source": [
            "predictions = model.predict(X_val2)\n",
            "predictions[:5]"
         ]
      },
      {
         "cell_type": "code",
         "execution_count": 14,
         "metadata": {},
         "outputs": [
            {
               "name": "stdout",
               "output_type": "stream",
               "text": [
                  "6.06\n",
                  "2613.49\n",
                  "51.12\n",
                  "0.06\n"
               ]
            }
         ],
         "source": [
            "from sklearn.metrics import mean_squared_error, mean_absolute_error, r2_score\n",
            "import numpy as np\n",
            "print(round(mean_absolute_error(y_val_duration_in_minutes, predictions), 2))\n",
            "print(round(mean_squared_error(y_val_duration_in_minutes, predictions), 2))\n",
            "print(round(np.sqrt(mean_squared_error(y_val_duration_in_minutes, predictions)), 2))\n",
            "print(round(r2_score(y_val_duration_in_minutes, predictions), 2))"
         ]
      },
      {
         "cell_type": "code",
         "execution_count": 57,
         "metadata": {},
         "outputs": [
            {
               "data": {
                  "image/png": "[encoded data removed]",
                  "text/plain": [
                     "<Figure size 640x480 with 1 Axes>"
                  ]
               },
               "metadata": {},
               "output_type": "display_data"
            }
         ],
         "source": [
            "import matplotlib.pyplot as plt\n",
            "import numpy as np\n",
            "\n",
            "# Asumiendo que y_val2 son los valores reales\n",
            "# Realizar las predicciones\n",
            "predictions = model.predict(X_val2)\n",
            "\n",
            "# Calcular los errores\n",
            "errors = y_val_duration_in_minutes - predictions\n",
            "\n",
            "# Calcular las frecuencias y los bordes de los bins\n",
            "frequencies, bin_edges = np.histogram(errors, bins='auto')\n",
            "\n",
            "# Filtrar los bins cuya frecuencia sea menor a 2000\n",
            "filtered_bin_edges = bin_edges[:-1][frequencies < 750]\n",
            "filtered_frequencies = frequencies[frequencies < 750]\n",
            "\n",
            "# Crear una figura y un conjunto de subtramas\n",
            "fig, ax = plt.subplots()\n",
            "\n",
            "# Crear un histograma con los errores filtrados\n",
            "# Usar np.diff(filtered_bin_edges) para obtener el ancho de los bins filtrados\n",
            "# Agregar un último valor para que coincida con la longitud de filtered_bin_edges y filtered_frequencies\n",
            "widths = np.append(np.diff(filtered_bin_edges), np.diff(filtered_bin_edges)[-1])\n",
            "\n",
            "ax.bar(filtered_bin_edges, filtered_frequencies, width=widths, align=\"edge\", alpha=0.5, color='g')\n",
            "\n",
            "# Establecer las etiquetas de los ejes\n",
            "ax.set_xlabel('Error')\n",
            "ax.set_ylabel('Frecuencia')\n",
            "\n",
            "# Mostrar el gráfico\n",
            "plt.show()"
         ]
      },
      {
         "cell_type": "markdown",
         "metadata": {},
         "source": [
            "## Models"
         ]
      },
      {
         "cell_type": "code",
         "execution_count": 15,
         "metadata": {},
         "outputs": [
            {
               "name": "stdout",
               "output_type": "stream",
               "text": [
                  "[LightGBM] [Info] Auto-choosing row-wise multi-threading, the overhead of testing was 0.094602 seconds.\n",
                  "You can set `force_row_wise=true` to remove the overhead.\n",
                  "And if memory is not enough, you can set `force_col_wise=true`.\n",
                  "[LightGBM] [Info] Total Bins 829\n",
                  "[LightGBM] [Info] Number of data points in the train set: 2720252, number of used features: 11\n",
                  "[LightGBM] [Info] Start training from score 21.142774\n",
                  "LightGBM Regressor (Validation) - R2: 0.9260, MSE: 17.0264\n",
                  "XGBoost Regressor (Validation) - R2: 0.0554, MSE: 2612.3461\n"
               ]
            }
         ],
         "source": [
            "import pandas as pd\n",
            "import numpy as np\n",
            "from sklearn.model_selection import train_test_split\n",
            "from sklearn.metrics import r2_score, mean_squared_error\n",
            "from lightgbm import LGBMRegressor\n",
            "import xgboost as xgb\n",
            "import pickle\n",
            "\n",
            "\n",
            "# LightGBM Regressor (using validation set)\n",
            "lgbm = LGBMRegressor(random_state=42)\n",
            "\n",
            "# Train on training features and duration target\n",
            "lgbm.fit(X_train, y_train_total_amount)\n",
            "\n",
            "# Make predictions on validation set features\n",
            "y_pred_lgbm = lgbm.predict(X_val)\n",
            "\n",
            "# Evaluate on validation set - duration\n",
            "r2_lgbm_val = r2_score(y_val_total_amount, y_pred_lgbm)\n",
            "mse_lgbm_val = mean_squared_error(y_val_total_amount, y_pred_lgbm)\n",
            "\n",
            "# Print validation set results (f-string for readability)\n",
            "print(f\"LightGBM Regressor (Validation) - R2: {r2_lgbm_val:.4f}, MSE: {mse_lgbm_val:.4f}\")\n",
            "\n",
            "# XGBoost Regressor (using validation set)\n",
            "xgbr = xgb.XGBRegressor(random_state=42)\n",
            "\n",
            "# Train on training features and duration target\n",
            "xgbr.fit(X_train, y_train_duration_in_minutes)\n",
            "\n",
            "# Make predictions on validation set features\n",
            "y_pred_xgbr = xgbr.predict(X_val)\n",
            "\n",
            "# Evaluate on validation set - duration\n",
            "r2_xgbr_val = r2_score(y_val_duration_in_minutes, y_pred_xgbr)\n",
            "mse_xgbr_val = mean_squared_error(y_val_duration_in_minutes, y_pred_xgbr)\n",
            "\n",
            "#with open('time_model1.pkl', 'wb') as file:\n",
            "#    pickle.dump(xgbr, file)\n",
            "\n",
            "#with open('Rate.pkl', 'wb') as file:\n",
            "#    pickle.dump(lgbm, file)\n",
            "\n",
            "\n",
            "# Print validation set results (f-string for readability)\n",
            "print(f\"XGBoost Regressor (Validation) - R2: {r2_xgbr_val:.4f}, MSE: {mse_xgbr_val:.4f}\")"
         ]
      },
      {
         "cell_type": "markdown",
         "metadata": {},
         "source": [
            "### Linear Regression"
         ]
      },
      {
         "cell_type": "code",
         "execution_count": 10,
         "metadata": {},
         "outputs": [
            {
               "name": "stdout",
               "output_type": "stream",
               "text": [
                  "[[0.2        0.90458015 0.94656489 ... 1.         0.95652174 0.10169492]\n",
                  " [0.         1.         0.87022901 ... 0.66666667 0.69565217 0.50847458]\n",
                  " [0.2        0.61832061 0.33969466 ... 1.         0.91304348 0.33898305]\n",
                  " ...\n",
                  " [0.         0.29770992 0.59923664 ... 0.66666667 0.56521739 0.88135593]\n",
                  " [0.         0.5        0.8740458  ... 0.33333333 0.43478261 0.96610169]\n",
                  " [0.         0.32824427 0.79389313 ... 0.66666667 0.52173913 0.96610169]]\n"
               ]
            }
         ],
         "source": []
      },
      {
         "cell_type": "markdown",
         "metadata": {},
         "source": [
            "#### Total amount prediction"
         ]
      },
      {
         "cell_type": "code",
         "execution_count": 137,
         "metadata": {},
         "outputs": [
            {
               "name": "stdout",
               "output_type": "stream",
               "text": [
                  "MAE: 8.499936202490034\n",
                  "MSE: 227.1152783615407\n",
                  "RMSE: 15.070344334537971\n",
                  "R2: 0.3392703528507055\n",
                  "_________________________:\n",
                  "MAE: 8.459752577545961\n",
                  "MSE: 204.6382722531288\n",
                  "RMSE: 14.305183405085334\n",
                  "R2: 0.35828908484859767\n"
               ]
            }
         ],
         "source": [
            "from sklearn.linear_model import LinearRegression\n",
            "from sklearn.metrics import mean_absolute_error, mean_squared_error, r2_score\n",
            "from src.save_model import save_total_trip_model,save_duration_trip_model\n",
            "import math\n",
            "\n",
            "# Create a linear regression model\n",
            "model = LinearRegression()\n",
            "\n",
            "# Fit the model\n",
            "model.fit(X_train, y_train_total_amount)\n",
            "\n",
            "save_total_trip_model(model)\n",
            "# Predict using the model\n",
            "\n",
            "y_pred_train = model.predict(X_train)\n",
            "print('MAE:', mean_absolute_error(y_train_total_amount, y_pred_train))\n",
            "print('MSE:', mean_squared_error(y_train_total_amount, y_pred_train))\n",
            "print('RMSE:', math.sqrt(mean_squared_error(y_train_total_amount, y_pred_train)))\n",
            "print('R2:', r2_score(y_train_total_amount, y_pred_train))\n",
            "print('_________________________:')\n",
            "\n",
            "y_pred_val = model.predict(X_val)\n",
            "print('MAE:', mean_absolute_error(y_val_total_amount, y_pred_val))\n",
            "print('MSE:', mean_squared_error(y_val_total_amount, y_pred_val))\n",
            "print('RMSE:', math.sqrt(mean_squared_error(y_val_total_amount, y_pred_val)))\n",
            "print('R2:', r2_score(y_val_total_amount, y_pred_val))"
         ]
      },
      {
         "cell_type": "markdown",
         "metadata": {},
         "source": [
            "#### Trip duration prediction"
         ]
      },
      {
         "cell_type": "code",
         "execution_count": 138,
         "metadata": {},
         "outputs": [
            {
               "name": "stdout",
               "output_type": "stream",
               "text": [
                  "(2767016, 11)\n",
                  "(2767016,)\n",
                  "MAE: 10.507362989449026\n",
                  "MSE: 2689.339306865035\n",
                  "RMSE: 51.85884019976763\n",
                  "R2: 0.017765573487283692\n",
                  "_________________________:\n",
                  "MAE: 10.524926375876877\n",
                  "MSE: 2739.279361595603\n",
                  "RMSE: 52.33812531602181\n",
                  "R2: 0.01666234906141406\n"
               ]
            }
         ],
         "source": [
            "# Create a linear regression model\n",
            "model_duration = LinearRegression()\n",
            "\n",
            "print(X_train.shape)\n",
            "print(y_train_duration_in_minutes.shape)\n",
            "# Fit the model\n",
            "model_duration.fit(X_train, y_train_duration_in_minutes)\n",
            "\n",
            "save_duration_trip_model(model_duration)\n",
            "# Predict using the model\n",
            "\n",
            "y_pred_train = model_duration.predict(X_train)\n",
            "print('MAE:', mean_absolute_error(y_train_duration_in_minutes, y_pred_train))\n",
            "print('MSE:', mean_squared_error(y_train_duration_in_minutes, y_pred_train))\n",
            "print('RMSE:', math.sqrt(mean_squared_error(y_train_duration_in_minutes, y_pred_train)))\n",
            "print('R2:', r2_score(y_train_duration_in_minutes, y_pred_train))\n",
            "print('_________________________:')\n",
            "\n",
            "y_pred_val = model_duration.predict(X_val)\n",
            "print('MAE:', mean_absolute_error(y_val_duration_in_minutes, y_pred_val))\n",
            "print('MSE:', mean_squared_error(y_val_duration_in_minutes, y_pred_val))\n",
            "print('RMSE:', math.sqrt(mean_squared_error(y_val_duration_in_minutes, y_pred_val)))\n",
            "print('R2:', r2_score(y_val_duration_in_minutes, y_pred_val))"
         ]
      },
      {
         "cell_type": "markdown",
         "metadata": {},
         "source": [
            "### DecisionTreeRegressor"
         ]
      },
      {
         "cell_type": "code",
         "execution_count": 139,
         "metadata": {},
         "outputs": [],
         "source": [
            "from sklearn.tree import DecisionTreeRegressor\n",
            "from sklearn.ensemble import RandomForestRegressor, GradientBoostingRegressor\n",
            "from sklearn.metrics import mean_absolute_error, mean_squared_error, r2_score\n",
            "import math"
         ]
      },
      {
         "cell_type": "code",
         "execution_count": 140,
         "metadata": {},
         "outputs": [
            {
               "name": "stdout",
               "output_type": "stream",
               "text": [
                  "MAE: 5.927281148257893\n",
                  "MSE: 128.48125407285585\n",
                  "RMSE: 11.334957171196363\n",
                  "R2: 0.6262190096532394\n",
                  "val:\n",
                  "MAE: 5.91380714453071\n",
                  "MSE: 108.65590724153505\n",
                  "RMSE: 10.423814428582995\n",
                  "R2: 0.6592735029236191\n"
               ]
            }
         ],
         "source": [
            "tree = DecisionTreeRegressor(max_depth=10)\n",
            "tree.fit(X_train, y_train_total_amount)\n",
            "\n",
            "# Evaluate the model\n",
            "y_pred_train_DTR = tree.predict(X_train)\n",
            "\n",
            "\n",
            "\n",
            "print('MAE:', mean_absolute_error(y_train_total_amount, y_pred_train_DTR))\n",
            "print('MSE:', mean_squared_error(y_train_total_amount, y_pred_train_DTR))\n",
            "print('RMSE:', math.sqrt(mean_squared_error(y_train_total_amount, y_pred_train_DTR)))\n",
            "print('R2:', r2_score(y_train_total_amount, y_pred_train_DTR))\n",
            "\n",
            "y_pred_val_DTR = tree.predict(X_val)\n",
            "\n",
            "print('val:')\n",
            "\n",
            "print('MAE:', mean_absolute_error(y_val_total_amount, y_pred_val_DTR))\n",
            "print('MSE:', mean_squared_error(y_val_total_amount, y_pred_val_DTR))\n",
            "print('RMSE:', math.sqrt(mean_squared_error(y_val_total_amount, y_pred_val_DTR)))\n",
            "print('R2:', r2_score(y_val_total_amount, y_pred_val_DTR))"
         ]
      },
      {
         "cell_type": "markdown",
         "metadata": {},
         "source": [
            "### XGBRegressor"
         ]
      },
      {
         "cell_type": "code",
         "execution_count": 143,
         "metadata": {},
         "outputs": [
            {
               "name": "stdout",
               "output_type": "stream",
               "text": [
                  "__version__ 2.0.3\n",
                  "MAE: 8.499936202490034\n",
                  "MSE: 227.1152783615407\n",
                  "RMSE: 15.070344334537971\n",
                  "R2: 0.34\n",
                  "Val:\n",
                  "MAE: 8.459752577545961\n",
                  "MSE: 204.6382722531288\n",
                  "RMSE: 14.305183405085334\n",
                  "R2: 0.36\n"
               ]
            }
         ],
         "source": [
            "import xgboost as xgb\n",
            "print('__version__',xgb.__version__)\n",
            "from sklearn.datasets import make_regression\n",
            "#XGBRegressor\n",
            "model_xgb = xgb.XGBRegressor(objective='reg:squarederror', n_jobs=1, random_state=42,\n",
            "                               n_estimators=500, max_depth=5, learning_rate=00.1, \n",
            "                               subsample=0.8, colsample_bytree=0.8)\n",
            "\n",
            "# Fit the model\n",
            "model_xgb.fit(X_train, y_train_total_amount)\n",
            "\n",
            "y_pred_train_xgb = model.predict(X_train)\n",
            "\n",
            "print('MAE:', mean_absolute_error(y_train_total_amount, y_pred_train_xgb))\n",
            "print(\"MSE:\", mean_squared_error(y_train_total_amount, y_pred_train_xgb))\n",
            "print('RMSE:', math.sqrt(mean_squared_error(y_train_total_amount, y_pred_train_xgb)))\n",
            "r2 = r2_score(y_train_total_amount, y_pred_train_xgb)\n",
            "print(f\"R2: {r2_score(y_train_total_amount, y_pred_train_xgb):.2f}\")\n",
            "\n",
            "# Predicting the Test set results\n",
            "y_pred_val_xgb = model.predict(X_val)\n",
            "\n",
            "print(\"Val:\")\n",
            "print('MAE:', mean_absolute_error(y_val_total_amount, y_pred_val_xgb))\n",
            "print(\"MSE:\", mean_squared_error(y_val_total_amount, y_pred_val_xgb))\n",
            "print('RMSE:', math.sqrt(mean_squared_error(y_val_total_amount, y_pred_val_xgb)))\n",
            "print(f\"R2: {r2_score(y_val_total_amount, y_pred_val_xgb):.2f}\")"
         ]
      },
      {
         "cell_type": "markdown",
         "metadata": {},
         "source": [
            "#### Random Forest Regressor"
         ]
      },
      {
         "cell_type": "code",
         "execution_count": 150,
         "metadata": {},
         "outputs": [
            {
               "name": "stdout",
               "output_type": "stream",
               "text": [
                  "MAE: 7.254991895333542\n",
                  "MSE: 172.27699229871806\n",
                  "RMSE: 13.125433032807644\n",
                  "R2: 0.50\n",
                  "Val:\n",
                  "MAE: 8.459752577545961\n",
                  "MSE: 204.6382722531288\n",
                  "RMSE: 14.305183405085334\n",
                  "R2: 0.36\n"
               ]
            }
         ],
         "source": [
            "rf_reg = RandomForestRegressor(n_estimators=6, max_depth=5, random_state=42, n_jobs=1)\n",
            "rf_reg.fit(X_train, y_train_total_amount)\n",
            "\n",
            "# Evaluate the model\n",
            "y_pred_train_RFR = rf_reg.predict(X_train)\n",
            "\n",
            "print('MAE:', mean_absolute_error(y_train_total_amount, y_pred_train_RFR))\n",
            "print(\"MSE:\", mean_squared_error(y_train_total_amount, y_pred_train_RFR))\n",
            "print('RMSE:', math.sqrt(mean_squared_error(y_train_total_amount, y_pred_train_RFR)))\n",
            "r2 = r2_score(y_train_total_amount, y_pred_train_RFR)\n",
            "print(f\"R2: {r2_score(y_train_total_amount, y_pred_train_RFR):.2f}\")\n",
            "\n",
            "# Predicting the Test set results\n",
            "y_pred_val_RFR = model.predict(X_val)\n",
            "\n",
            "print(\"Val:\")\n",
            "print('MAE:', mean_absolute_error(y_val_total_amount, y_pred_val_RFR))\n",
            "print(\"MSE:\", mean_squared_error(y_val_total_amount, y_pred_val_RFR))\n",
            "print('RMSE:', math.sqrt(mean_squared_error(y_val_total_amount, y_pred_val_RFR)))\n",
            "print(f\"R2: {r2_score(y_val_total_amount, y_pred_val_RFR):.2f}\")"
         ]
      },
      {
         "cell_type": "markdown",
         "metadata": {},
         "source": [
            "## Advanced cross validation\n",
            "\n"
         ]
      },
      {
         "cell_type": "code",
         "execution_count": 153,
         "metadata": {},
         "outputs": [
            {
               "name": "stdout",
               "output_type": "stream",
               "text": [
                  "MSE: 115.78741919896211 Std: 49.406062188298016\n"
               ]
            }
         ],
         "source": [
            "from sklearn.model_selection import cross_val_score, KFold\n",
            "X, y = X_train, y_train_total_amount\n",
            "# Create a random forest regression model\n",
            "model = RandomForestRegressor(n_estimators=10)\n",
            "\n",
            "# Configure the cross-validation procedure\n",
            "cv = KFold(n_splits=10, shuffle=True)\n",
            "\n",
            "# Evaluate the model using the cross-validation procedure\n",
            "scores = cross_val_score(model, X, y, scoring='neg_mean_squared_error', cv=cv)\n",
            "\n",
            "# The scores are negative, which is how scikit-learn shows them for MSE (want to maximize negative MSE)\n",
            "mse_scores = -scores\n",
            "\n",
            "# Mean and standard deviation of MSE across all folds\n",
            "print(\"MSE:\", mse_scores.mean(), \"Std:\", mse_scores.std())"
         ]
      },
      {
         "cell_type": "code",
         "execution_count": null,
         "metadata": {},
         "outputs": [],
         "source": []
      },
      {
         "cell_type": "code",
         "execution_count": 154,
         "metadata": {},
         "outputs": [],
         "source": [
            "from sklearn.ensemble import StackingRegressor\n",
            "import xgboost as xgb\n",
            "# Base models\n",
            "model1 = RandomForestRegressor(random_state=42)\n",
            "model2 = xgb.XGBRegressor(objective='reg:squarederror', n_estimators=100, seed=123)\n",
            "model3 = RandomForestRegressor(n_estimators=100)\n",
            "\n",
            "# Defining the meta model, using a regressor \n",
            "meta_model = RandomForestRegressor(random_state=42)\n",
            "\n",
            "# Create Stacking model\n",
            "stacking_model = StackingRegressor(\n",
            "    estimators=[('rf1', model1), ('xgb', model2), ('rf2', model3)],\n",
            "    final_estimator=meta_model,\n",
            "    cv=5\n",
            ")\n",
            "\n",
            "# Training the model\n",
            "stacking_model.fit(X_train, y_train_total_amount)\n",
            "\n",
            "# Predictions\n",
            "y_pred = stacking_model.predict(X_test)\n",
            "\n",
            "# Evaluation metrics\n",
            "# Calculate MSE\n",
            "mse = mean_squared_error(y_test_total_amount, y_pred)\n",
            "print(f\"Mean Squared Error: {mse:.2f}\")\n",
            "\n",
            "# Calculate R-squared\n",
            "r2 = r2_score(y_test, y_pred)\n",
            "print(f\"R-squared: {r2:.2f}\")"
         ]
      }
   ],
   "metadata": {
      "kernelspec": {
         "display_name": "finalprojectenv",
         "language": "python",
         "name": "python3"
      },
      "language_info": {
         "codemirror_mode": {
            "name": "ipython",
            "version": 3
         },
         "file_extension": ".py",
         "mimetype": "text/x-python",
         "name": "python",
         "nbconvert_exporter": "python",
         "pygments_lexer": "ipython3",
         "version": "3.11.7"
      },
      "vscode": {
         "interpreter": {
            "hash": "5efa683b5b1ae7e8e11b6b316072de2b1afb735b3660bedb7c7a61c7b9dc51db"
         }
      }
   },
   "nbformat": 4,
   "nbformat_minor": 2
}
